{
 "cells": [
  {
   "cell_type": "code",
   "execution_count": 22,
   "metadata": {},
   "outputs": [],
   "source": [
    "import numpy as np \n",
    "import pandas as pd \n",
    "import os"
   ]
  },
  {
   "cell_type": "code",
   "execution_count": 23,
   "metadata": {},
   "outputs": [],
   "source": [
    "PATH = r\"C:\\Users\\tardi\\OneDrive\\Documenti\\Università\\Artificial Intelligence from enginnering to arts\\Project\\Datasets\\DDSM + CBIS-DDSM\\archive\""
   ]
  },
  {
   "cell_type": "code",
   "execution_count": 24,
   "metadata": {},
   "outputs": [
    {
     "name": "stdout",
     "output_type": "stream",
     "text": [
      "C:\\Users\\tardi\\OneDrive\\Documenti\\Università\\Artificial Intelligence from enginnering to arts\\Project\\Datasets\\DDSM + CBIS-DDSM\\archive\\cv10_labels.npy\n",
      "C:\\Users\\tardi\\OneDrive\\Documenti\\Università\\Artificial Intelligence from enginnering to arts\\Project\\Datasets\\DDSM + CBIS-DDSM\\archive\\test10_labels.npy\n",
      "C:\\Users\\tardi\\OneDrive\\Documenti\\Università\\Artificial Intelligence from enginnering to arts\\Project\\Datasets\\DDSM + CBIS-DDSM\\archive\\cv10_data\\cv10_data.npy\n",
      "C:\\Users\\tardi\\OneDrive\\Documenti\\Università\\Artificial Intelligence from enginnering to arts\\Project\\Datasets\\DDSM + CBIS-DDSM\\archive\\test10_data\\test10_data.npy\n",
      "C:\\Users\\tardi\\OneDrive\\Documenti\\Università\\Artificial Intelligence from enginnering to arts\\Project\\Datasets\\DDSM + CBIS-DDSM\\archive\\training10_0\\training10_0.tfrecords\n",
      "C:\\Users\\tardi\\OneDrive\\Documenti\\Università\\Artificial Intelligence from enginnering to arts\\Project\\Datasets\\DDSM + CBIS-DDSM\\archive\\training10_1\\training10_1.tfrecords\n",
      "C:\\Users\\tardi\\OneDrive\\Documenti\\Università\\Artificial Intelligence from enginnering to arts\\Project\\Datasets\\DDSM + CBIS-DDSM\\archive\\training10_2\\training10_2.tfrecords\n",
      "C:\\Users\\tardi\\OneDrive\\Documenti\\Università\\Artificial Intelligence from enginnering to arts\\Project\\Datasets\\DDSM + CBIS-DDSM\\archive\\training10_3\\training10_3.tfrecords\n",
      "C:\\Users\\tardi\\OneDrive\\Documenti\\Università\\Artificial Intelligence from enginnering to arts\\Project\\Datasets\\DDSM + CBIS-DDSM\\archive\\training10_4\\training10_4.tfrecords\n"
     ]
    }
   ],
   "source": [
    "files = []\n",
    "\n",
    "for dirname, _, filenames in os.walk(PATH):\n",
    "    for filename in filenames:\n",
    "        print(os.path.join(dirname, filename))\n",
    "        files.append(os.path.join(dirname, filename))\n",
    "        "
   ]
  },
  {
   "cell_type": "code",
   "execution_count": 12,
   "metadata": {},
   "outputs": [],
   "source": [
    "from collections import Counter\n",
    "import tensorflow as tf\n",
    "import cv2\n",
    "import glob\n",
    "import skimage\n",
    "import seaborn as sn\n",
    "import preprocessing\n",
    "from tqdm import tqdm\n",
    "from io import BytesIO\n",
    "from PIL import Image\n",
    "from os import listdir\n",
    "import matplotlib.pyplot as plt\n",
    "from sklearn.model_selection import train_test_split"
   ]
  },
  {
   "cell_type": "code",
   "execution_count": 25,
   "metadata": {},
   "outputs": [],
   "source": [
    "# Création de listes vides pour stocker les images et les étiquettes.\n",
    "images=[] \n",
    "labels=[]\n",
    "# Création d'un dictionnaire de caractéristiques qui spécifie le type et la longueur des caractéristiques que nous allons extraire.\n",
    "feature_dictionary = {  \n",
    "    'label': tf.io.FixedLenFeature([], tf.int64),# La caractéristique 'label' est un entier 64 bits avec une longueur fixe.\n",
    "    'label_normal': tf.io.FixedLenFeature([], tf.int64), # La caractéristique 'label_normal' est un entier 64 bits avec une longueur fixe.# La caractéristique 'label_normal' est un entier 64 bits avec une longueur fixe.\n",
    "    'image': tf.io.FixedLenFeature([], tf.string)  # La caractéristique 'image' est une chaîne de caractères avec une longueur fixe.\n",
    "    }"
   ]
  },
  {
   "cell_type": "code",
   "execution_count": 26,
   "metadata": {},
   "outputs": [],
   "source": [
    "def _parse_function(example, feature_dictionary=feature_dictionary):\n",
    "    parsed_example = tf.io.parse_example(example, feature_dictionary)\n",
    "    return parsed_example\n",
    "# Fonction pour lire les données à partir d'un fichier TFRecord.\n",
    "def read_data(filename):\n",
    "    # Création d'un objet TFRecordDataset à partir du fichier.\n",
    "    full_dataset = tf.data.TFRecordDataset(filename, num_parallel_reads=tf.data.experimental.AUTOTUNE)\n",
    "    \n",
    "    # Mélange du dataset.\n",
    "    full_dataset = full_dataset.shuffle(buffer_size=31000)\n",
    "    \n",
    "    # Mise en cache du dataset pour une lecture plus rapide.\n",
    "    full_dataset = full_dataset.cache()\n",
    "    \n",
    "    # affichage de la taille du dataset.\n",
    "    print(\"Size of Training Dataset: \", len(list(full_dataset)))\n",
    "\n",
    "    # Application de la fonction _parse_function pour extraire les caractéristiques.\n",
    "    full_dataset = full_dataset.map(_parse_function, num_parallel_calls=tf.data.experimental.AUTOTUNE)\n",
    "    print(full_dataset)\n",
    "\n",
    "    # Boucle à travers chaque exemple dans le dataset.\n",
    "    for image_features in full_dataset:\n",
    "        # Extraction et décodage de l'image.\n",
    "        image = image_features['image'].numpy()\n",
    "        image = tf.io.decode_raw(image_features['image'], tf.uint8)\n",
    "        image = tf.reshape(image, [299, 299, 1])\n",
    "        image = image.numpy()\n",
    "\n",
    "        # Redimensionnement de l'image à (100, 100).\n",
    "        image = cv2.resize(image, (100, 100))\n",
    "\n",
    "        # Ajout de l'image à la liste des images.\n",
    "        images.append(image)\n",
    "\n",
    "        # Ajout de l'étiquette correspondante à la liste des étiquettes.\n",
    "        labels.append(image_features['label_normal'].numpy())"
   ]
  },
  {
   "cell_type": "code",
   "execution_count": 32,
   "metadata": {},
   "outputs": [
    {
     "name": "stdout",
     "output_type": "stream",
     "text": [
      "Size of Training Dataset:  11177\n",
      "<_ParallelMapDataset element_spec={'image': TensorSpec(shape=(), dtype=tf.string, name=None), 'label': TensorSpec(shape=(), dtype=tf.int64, name=None), 'label_normal': TensorSpec(shape=(), dtype=tf.int64, name=None)}>\n",
      "Size of Training Dataset:  11177\n",
      "<_ParallelMapDataset element_spec={'image': TensorSpec(shape=(), dtype=tf.string, name=None), 'label': TensorSpec(shape=(), dtype=tf.int64, name=None), 'label_normal': TensorSpec(shape=(), dtype=tf.int64, name=None)}>\n",
      "Size of Training Dataset:  11177\n",
      "<_ParallelMapDataset element_spec={'image': TensorSpec(shape=(), dtype=tf.string, name=None), 'label': TensorSpec(shape=(), dtype=tf.int64, name=None), 'label_normal': TensorSpec(shape=(), dtype=tf.int64, name=None)}>\n",
      "Size of Training Dataset:  11177\n",
      "<_ParallelMapDataset element_spec={'image': TensorSpec(shape=(), dtype=tf.string, name=None), 'label': TensorSpec(shape=(), dtype=tf.int64, name=None), 'label_normal': TensorSpec(shape=(), dtype=tf.int64, name=None)}>\n",
      "Size of Training Dataset:  11177\n",
      "<_ParallelMapDataset element_spec={'image': TensorSpec(shape=(), dtype=tf.string, name=None), 'label': TensorSpec(shape=(), dtype=tf.int64, name=None), 'label_normal': TensorSpec(shape=(), dtype=tf.int64, name=None)}>\n",
      "67062\n",
      "67062\n"
     ]
    }
   ],
   "source": [
    "# Liste de chemins de fichiers TFRecord contenant les données.\n",
    "filenames=['../Datasets/DDSM + CBIS-DDSM/archive/training10_0/training10_0.tfrecords',\n",
    "          '../Datasets/DDSM + CBIS-DDSM/archive/training10_1/training10_1.tfrecords',\n",
    "          '../Datasets/DDSM + CBIS-DDSM/archive/training10_2/training10_2.tfrecords',\n",
    "          '../Datasets/DDSM + CBIS-DDSM/archive/training10_3/training10_3.tfrecords',\n",
    "          '../Datasets/DDSM + CBIS-DDSM/archive/training10_4/training10_4.tfrecords']\n",
    "\n",
    "for file in filenames:\n",
    "    read_data(file) # Itération sur chaque fichier dans la liste de chemins de fichiers.\n",
    "\n",
    "# Affichage de la taille des listes d'images et d'étiquettes après le traitement de tous les fichiers.  \n",
    "print(len(images))\n",
    "print(len(labels))"
   ]
  },
  {
   "cell_type": "code",
   "execution_count": 33,
   "metadata": {},
   "outputs": [
    {
     "name": "stdout",
     "output_type": "stream",
     "text": [
      "(53649, 100, 100)\n"
     ]
    }
   ],
   "source": [
    "# Convertit la liste 'images' en un tableau NumPy 'X'\n",
    "X = np.array(images)\n",
    "\n",
    "# Convertit la liste 'labels' en un tableau NumPy 'y'\n",
    "y = np.array(labels)\n",
    "\n",
    "# Divise les données en ensembles d'entraînement (x_train, y_train) et de test (x_test, y_test)\n",
    "x_train, x_test, y_train, y_test = train_test_split(X, y, test_size=0.2, random_state=2021, shuffle=True, stratify=y)\n",
    "\n",
    "# Obtient les dimensions du tableau x_train (nombre d'échantillons, largeur, hauteur)\n",
    "(a, b, c) = x_train.shape\n",
    "\n",
    "# Affiche les dimensions du tableau x_train\n",
    "print(x_train.shape)\n",
    "\n",
    "# Redimensionne x_train pour ajouter une dimension supplémentaire correspondant à la chaîne de couleur (canal)\n",
    "x_train = np.reshape(x_train, (a, b, c, 1))\n",
    "\n",
    "# Obtient les dimensions du tableau x_test (nombre d'échantillons, largeur, hauteur)\n",
    "(a, b, c) = x_test.shape\n",
    "\n",
    "# Redimensionne x_test de la même manière que x_train\n",
    "x_test = np.reshape(x_test, (a, b, c, 1))"
   ]
  },
  {
   "cell_type": "code",
   "execution_count": 37,
   "metadata": {},
   "outputs": [
    {
     "data": {
      "text/plain": [
       "<matplotlib.image.AxesImage at 0x1b6faad1c10>"
      ]
     },
     "execution_count": 37,
     "metadata": {},
     "output_type": "execute_result"
    },
    {
     "data": {
      "image/png": "[encoded data removed]",
      "text/plain": [
       "<Figure size 640x480 with 1 Axes>"
      ]
     },
     "metadata": {},
     "output_type": "display_data"
    }
   ],
   "source": [
    "#  afficher une image du tableau x_train\n",
    "plt.imshow(x_train[0])"
   ]
  }
 ],
 "metadata": {
  "kernelspec": {
   "display_name": "Python 3",
   "language": "python",
   "name": "python3"
  },
  "language_info": {
   "codemirror_mode": {
    "name": "ipython",
    "version": 3
   },
   "file_extension": ".py",
   "mimetype": "text/x-python",
   "name": "python",
   "nbconvert_exporter": "python",
   "pygments_lexer": "ipython3",
   "version": "3.12.4"
  }
 },
 "nbformat": 4,
 "nbformat_minor": 2
}
