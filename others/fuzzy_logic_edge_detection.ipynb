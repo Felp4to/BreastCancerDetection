{
 "cells": [
  {
   "cell_type": "code",
   "execution_count": 13,
   "metadata": {},
   "outputs": [],
   "source": [
    "import cv2\n",
    "import numpy as np\n",
    "import skfuzzy as fuzz\n",
    "import skfuzzy.control as ctrl\n",
    "import matplotlib.pyplot as plt"
   ]
  },
  {
   "cell_type": "code",
   "execution_count": 14,
   "metadata": {},
   "outputs": [],
   "source": [
    "# Carica l'immagine in scala di grigi\n",
    "image = cv2.imread('./einstein.jpg', cv2.IMREAD_GRAYSCALE)\n",
    "\n",
    "# Applicare un rilevatore di bordi (es. Sobel o Canny)\n",
    "edges = cv2.Canny(image, 100, 200)\n",
    "\n",
    "# Normalizzare l'immagine dei bordi tra 0 e 1\n",
    "edges_norm = edges / 255.0\n",
    "\n",
    "# Logica fuzzy per esaltare i bordi\n",
    "# Definire variabile fuzzy di input (intensità bordi) e output (esaltazione)\n",
    "\n",
    "bordo = ctrl.Antecedent(np.arange(0, 1.1, 0.1), 'bordo')\n",
    "esaltazione = ctrl.Consequent(np.arange(0, 1.1, 0.1), 'esaltazione')\n",
    "\n",
    "# Definire le funzioni di appartenenza fuzzy\n",
    "bordo['debole'] = fuzz.trimf(bordo.universe, [0, 0, 0.5])\n",
    "bordo['medio'] = fuzz.trimf(bordo.universe, [0, 0.5, 1])\n",
    "bordo['forte'] = fuzz.trimf(bordo.universe, [0.5, 1, 1])\n",
    "\n",
    "esaltazione['bassa'] = fuzz.trimf(esaltazione.universe, [0, 0, 0.5])\n",
    "esaltazione['media'] = fuzz.trimf(esaltazione.universe, [0, 0.5, 1])\n",
    "esaltazione['alta'] = fuzz.trimf(esaltazione.universe, [0.5, 1, 1])\n",
    "\n",
    "# Definire le regole fuzzy\n",
    "rule1 = ctrl.Rule(bordo['debole'], esaltazione['bassa'])\n",
    "rule2 = ctrl.Rule(bordo['medio'], esaltazione['media'])\n",
    "rule3 = ctrl.Rule(bordo['forte'], esaltazione['alta'])\n",
    "\n",
    "# Creare un sistema di controllo fuzzy\n",
    "esaltazione_ctrl = ctrl.ControlSystem([rule1, rule2, rule3])\n",
    "esaltazione_sim = ctrl.ControlSystemSimulation(esaltazione_ctrl)\n",
    "\n",
    "# Applicare la logica fuzzy pixel per pixel\n",
    "output_image = np.zeros_like(edges_norm)\n",
    "\n",
    "for i in range(edges_norm.shape[0]):\n",
    "    for j in range(edges_norm.shape[1]):\n",
    "        esaltazione_sim.input['bordo'] = edges_norm[i, j]\n",
    "        esaltazione_sim.compute()\n",
    "        output_image[i, j] = esaltazione_sim.output['esaltazione']\n",
    "\n",
    "# Convertire l'immagine esaltata in formato 8-bit per visualizzazione\n",
    "output_image = (output_image * 255).astype(np.uint8)\n",
    "\n"
   ]
  },
  {
   "cell_type": "code",
   "execution_count": 15,
   "metadata": {},
   "outputs": [
    {
     "data": {
      "text/plain": [
       "True"
      ]
     },
     "execution_count": 15,
     "metadata": {},
     "output_type": "execute_result"
    }
   ],
   "source": [
    "# Mostrare il risultato\n",
    "cv2.imshow('Immagine Originale', image)\n",
    "cv2.imshow('Bordi Esaltati', output_image)\n",
    "cv2.waitKey(0)\n",
    "cv2.destroyAllWindows()\n",
    "\n",
    "# Salvare l'immagine del risultato\n",
    "cv2.imwrite('bordi_esaltati.jpg', output_image)"
   ]
  },
  {
   "cell_type": "code",
   "execution_count": null,
   "metadata": {},
   "outputs": [],
   "source": []
  },
  {
   "cell_type": "code",
   "execution_count": null,
   "metadata": {},
   "outputs": [],
   "source": []
  }
 ],
 "metadata": {
  "kernelspec": {
   "display_name": "Python 3",
   "language": "python",
   "name": "python3"
  },
  "language_info": {
   "codemirror_mode": {
    "name": "ipython",
    "version": 3
   },
   "file_extension": ".py",
   "mimetype": "text/x-python",
   "name": "python",
   "nbconvert_exporter": "python",
   "pygments_lexer": "ipython3",
   "version": "3.12.4"
  }
 },
 "nbformat": 4,
 "nbformat_minor": 2
}
