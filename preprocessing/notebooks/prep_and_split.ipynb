{
 "cells": [
  {
   "cell_type": "code",
   "execution_count": 1,
   "metadata": {},
   "outputs": [],
   "source": [
    "import os\n",
    "import sys"
   ]
  },
  {
   "cell_type": "code",
   "execution_count": 6,
   "metadata": {},
   "outputs": [],
   "source": [
    "# Aggiungi il percorso del progetto principale al sys.path\n",
    "sys.path.append(os.path.abspath(os.path.join(os.getcwd(), '..', 'py')))\n",
    "import partitioning as ppp"
   ]
  },
  {
   "cell_type": "code",
   "execution_count": 7,
   "metadata": {},
   "outputs": [],
   "source": [
    "#preprocessing_method = 'clahe'\n",
    "#preprocessing_method = 'fuzzy'\n",
    "#preprocessing_method = 'wavelet'\n",
    "#preprocessing_method = 'he'\n",
    "preprocessing_method = 'no_denoising'"
   ]
  },
  {
   "cell_type": "code",
   "execution_count": 8,
   "metadata": {},
   "outputs": [
    {
     "name": "stdout",
     "output_type": "stream",
     "text": [
      "Number of Images of no cancer: 198738\n",
      "Number of Images of cancer : 78786\n",
      "Total Number of Images : 277524\n",
      "Caricamento immagini non tumorali...\n"
     ]
    },
    {
     "name": "stderr",
     "output_type": "stream",
     "text": [
      "Non-cancer images: 100%|██████████| 3000/3000 [00:21<00:00, 142.70it/s]\n"
     ]
    },
    {
     "name": "stdout",
     "output_type": "stream",
     "text": [
      "Caricamento immagini tumorali...\n"
     ]
    },
    {
     "name": "stderr",
     "output_type": "stream",
     "text": [
      "Cancer images: 100%|██████████| 3000/3000 [00:16<00:00, 180.76it/s]\n"
     ]
    },
    {
     "data": {
      "image/png": "[encoded data removed]",
      "text/plain": [
       "<Figure size 640x480 with 1 Axes>"
      ]
     },
     "metadata": {},
     "output_type": "display_data"
    },
    {
     "name": "stdout",
     "output_type": "stream",
     "text": [
      "6000\n",
      "X shape: (6000, 50, 50, 3)\n",
      "X_train shape : (4800, 50, 50, 3)\n",
      "X_val shape   : (600, 50, 50, 3)\n",
      "X_test shape  : (600, 50, 50, 3)\n",
      "y_train shape : (4800, 2)\n",
      "y_val shape   : (600, 2)\n",
      "y_test shape  : (600, 2)\n"
     ]
    }
   ],
   "source": [
    "X_train, X_test, X_val, y_train, y_test, y_val = ppp.prep_and_split(preprocessing_method)"
   ]
  }
 ],
 "metadata": {
  "kernelspec": {
   "display_name": "Python 3",
   "language": "python",
   "name": "python3"
  },
  "language_info": {
   "codemirror_mode": {
    "name": "ipython",
    "version": 3
   },
   "file_extension": ".py",
   "mimetype": "text/x-python",
   "name": "python",
   "nbconvert_exporter": "python",
   "pygments_lexer": "ipython3",
   "version": "3.12.7"
  }
 },
 "nbformat": 4,
 "nbformat_minor": 2
}
